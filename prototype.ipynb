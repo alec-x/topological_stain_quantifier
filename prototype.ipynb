{
 "cells": [
  {
   "cell_type": "markdown",
   "metadata": {},
   "source": [
    "Imports"
   ]
  },
  {
   "cell_type": "code",
   "execution_count": 22,
   "metadata": {},
   "outputs": [],
   "source": [
    "import cv2\n",
    "import matplotlib.pyplot as plt\n",
    "%matplotlib inline\n",
    "import numpy as np\n",
    "from PIL import Image\n",
    "Image.MAX_IMAGE_PIXELS = None\n",
    "from scipy import ndimage\n",
    "from skimage.measure import block_reduce\n"
   ]
  },
  {
   "cell_type": "code",
   "execution_count": null,
   "metadata": {},
   "outputs": [],
   "source": [
    "def block_calc_2D(in_shp, trgt_shp):\n",
    "    return int(in_shp[0]/trgt_shp[0]), int(in_shp[1]/trgt_shp[1])\n",
    "    \n",
    "def plt_fun(arr, title, size=(10,10)):\n",
    "    plt.figure(figsize=size)\n",
    "    plt.imshow(arr)\n",
    "    plt.title(title)\n",
    "    plt.show()\n",
    "\n",
    "def normalize255(img):\n",
    "    return img/np.max(img)*255\n",
    "\n",
    "def normalize1(img):\n",
    "    return (img/np.max(img)).astype(np.float)"
   ]
  },
  {
   "cell_type": "markdown",
   "metadata": {},
   "source": [
    "Load Image"
   ]
  },
  {
   "cell_type": "code",
   "execution_count": 5,
   "metadata": {},
   "outputs": [],
   "source": [
    "path = r'.\\data\\Well2_100min_XY1_EGFP_10X.tif'\n",
    "img = Image.open(path)\n",
    "img_arr = np.array(img)\n",
    "\n",
    "path = r'.\\data\\Well2_100min_XY1_DAPI_10X.tif'\n",
    "img = Image.open(path)\n",
    "dapi_arr = np.array(img)\n",
    "\n",
    "path = r'.\\data\\Well2_100min_XY1_CY5_10X1.tif'\n",
    "img = Image.open(path)\n",
    "cy5_arr = np.array(img)\n"
   ]
  },
  {
   "cell_type": "markdown",
   "metadata": {},
   "source": [
    "Subtraction refers to middle section to be subtracted out of calculations from dapi stain"
   ]
  },
  {
   "cell_type": "code",
   "execution_count": null,
   "metadata": {},
   "outputs": [],
   "source": [
    "# PARAMS:\n",
    "compress_size = (512, 512) # shrink image for faster calcs. DAPI blob requires low resolution\n",
    "gauss_sigma = 10 # smooth DAPI blob for consistency\n",
    "sub_thresh = 50 # remove everything below median image brightness\n",
    "erosion_cycles = 10 # erode middle more for bigger hole\n",
    "\n",
    "orig_size = dapi_arr.shape\n",
    "subtraction = cv2.resize(dapi_arr, dsize=compress_size, interpolation=cv2.INTER_CUBIC)\n",
    "subtraction = ndimage.gaussian_filter(subtraction, gauss_sigma)\n",
    "subtraction = subtraction/np.max(subtraction)*100\n",
    "subtraction[subtraction < sub_thresh] = 0\n",
    "subtraction[subtraction >= sub_thresh] = 1\n",
    "subtraction = ndimage.binary_dilation(subtraction.astype(np.uint8), iterations=erosion_cycles)\n",
    "subtraction = 1 - subtraction\n",
    "subtraction = cv2.resize(subtraction.astype(float), dsize=orig_size, interpolation=cv2.INTER_CUBIC)\n",
    "\n",
    "plt_fun(subtraction, \"subtraction\", size=(3,3))\n",
    "plt_fun(dapi_arr, \"original\", size=(3,3))"
   ]
  },
  {
   "cell_type": "markdown",
   "metadata": {},
   "source": [
    "The below section adaptively subtracts out background"
   ]
  },
  {
   "cell_type": "code",
   "execution_count": null,
   "metadata": {},
   "outputs": [],
   "source": [
    "# PARAMS:\n",
    "sample_area = 100 # length of square to calculate background in\n",
    "background_percentile = 0.5 # zero out cells below this brightness\n",
    "\n",
    "s_len = int(sample_area/2)\n",
    "new_arr = np.zeros_like(img_arr)\n",
    "for i in range(s_len,img_arr.shape[0], sample_area):\n",
    "    for j in range(s_len,img_arr.shape[1], sample_area):\n",
    "        curr_area = img_arr[i-s_len:i+s_len, j-s_len:j+s_len]\n",
    "        background = np.percentile(curr_area, background_percentile)\n",
    "        curr_area = curr_area - background\n",
    "        curr_area[curr_area < 0] = 0\n",
    "        new_arr[i-s_len:i+s_len, j-s_len:j+s_len] = curr_area\n",
    "    print(f\"Processing {i/img_arr.shape[0]:.2%}\", end='\\r')\n",
    "\n",
    "egfp_arr = np.multiply(new_arr, subtraction)"
   ]
  },
  {
   "cell_type": "code",
   "execution_count": null,
   "metadata": {},
   "outputs": [],
   "source": [
    "plt_fun((egfp_arr/np.max(egfp_arr)*255), \"egfp_arr\", size=(5,5))\n",
    "plt_fun(img_arr, \"base_img\", size=(5,5))"
   ]
  },
  {
   "cell_type": "markdown",
   "metadata": {},
   "source": [
    "Remove low-brightness noise and high-brightness dead cells"
   ]
  },
  {
   "cell_type": "code",
   "execution_count": null,
   "metadata": {},
   "outputs": [],
   "source": [
    "# PARAMS:\n",
    "low = 6 # Delete noise below this number\n",
    "high = 30 # Delete (mostly cells) above this number\n",
    "\n",
    "filtered_arr = np.array(egfp_arr)\n",
    "filtered_arr[filtered_arr < low] = 0\n",
    "filtered_arr[filtered_arr > high] = 0\n",
    "\n",
    "%matplotlib inline\n",
    "\n",
    "plt_fun(np.array(egfp_arr[3000:3500, 3000:3500]), \"orig\", size=(10,10))\n",
    "plt_fun(filtered_arr[3000:3500, 3000:3500], \"filtered\", size=(10,10))"
   ]
  },
  {
   "cell_type": "code",
   "execution_count": null,
   "metadata": {},
   "outputs": [],
   "source": [
    "# PARAMS\n",
    "area = (100,100) # Sum score in rectangles with shape\n",
    "\n",
    "sum_arr = filtered_arr\n",
    "sum_arr[sum_arr > 0] = 1\n",
    "area_calc = block_reduce(sum_arr, area, np.sum)\n",
    "\n",
    "plt_fun(area_calc, \"summed\", size=(10,10))"
   ]
  }
 ],
 "metadata": {
  "interpreter": {
   "hash": "5f28b055f488624bbcb43e5427a1e1a08ddfd594a0a14b1c81dd9f4cacf7b99e"
  },
  "kernelspec": {
   "display_name": "Python 3.7.10 ('MacVis2')",
   "language": "python",
   "name": "python3"
  },
  "language_info": {
   "codemirror_mode": {
    "name": "ipython",
    "version": 3
   },
   "file_extension": ".py",
   "mimetype": "text/x-python",
   "name": "python",
   "nbconvert_exporter": "python",
   "pygments_lexer": "ipython3",
   "version": "3.7.11"
  },
  "orig_nbformat": 4
 },
 "nbformat": 4,
 "nbformat_minor": 2
}
